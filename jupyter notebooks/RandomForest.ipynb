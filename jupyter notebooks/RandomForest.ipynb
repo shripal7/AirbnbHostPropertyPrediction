{
 "cells": [
  {
   "cell_type": "code",
   "execution_count": 525,
   "metadata": {
    "collapsed": true
   },
   "outputs": [],
   "source": [
    "import pandas as pd\n",
    "from sklearn.ensemble import RandomForestRegressor\n",
    "from sklearn.metrics import mean_absolute_error, median_absolute_error\n",
    "import numpy as np\n",
    "from sklearn.model_selection import train_test_split"
   ]
  },
  {
   "cell_type": "code",
   "execution_count": 526,
   "metadata": {},
   "outputs": [
    {
     "data": {
      "text/html": [
       "<div>\n",
       "<style>\n",
       "    .dataframe thead tr:only-child th {\n",
       "        text-align: right;\n",
       "    }\n",
       "\n",
       "    .dataframe thead th {\n",
       "        text-align: left;\n",
       "    }\n",
       "\n",
       "    .dataframe tbody tr th {\n",
       "        vertical-align: top;\n",
       "    }\n",
       "</style>\n",
       "<table border=\"1\" class=\"dataframe\">\n",
       "  <thead>\n",
       "    <tr style=\"text-align: right;\">\n",
       "      <th></th>\n",
       "      <th>id</th>\n",
       "      <th>host_id</th>\n",
       "      <th>accommodates</th>\n",
       "      <th>bedrooms</th>\n",
       "      <th>beds</th>\n",
       "      <th>number_of_reviews</th>\n",
       "      <th>host_listings_count</th>\n",
       "      <th>availability_30</th>\n",
       "      <th>minimum_nights</th>\n",
       "      <th>bathrooms</th>\n",
       "      <th>...</th>\n",
       "      <th>40-49</th>\n",
       "      <th>50-59</th>\n",
       "      <th>60-69</th>\n",
       "      <th>70-79</th>\n",
       "      <th>80-84</th>\n",
       "      <th>85-89</th>\n",
       "      <th>90-94</th>\n",
       "      <th>95-100</th>\n",
       "      <th>price</th>\n",
       "      <th>price_log</th>\n",
       "    </tr>\n",
       "  </thead>\n",
       "  <tbody>\n",
       "    <tr>\n",
       "      <th>0</th>\n",
       "      <td>6627449</td>\n",
       "      <td>13886510</td>\n",
       "      <td>0.025891</td>\n",
       "      <td>-0.427395</td>\n",
       "      <td>-0.545710</td>\n",
       "      <td>-0.072227</td>\n",
       "      <td>-0.094294</td>\n",
       "      <td>2.487829</td>\n",
       "      <td>-0.067513</td>\n",
       "      <td>-0.331292</td>\n",
       "      <td>...</td>\n",
       "      <td>0</td>\n",
       "      <td>0</td>\n",
       "      <td>0</td>\n",
       "      <td>0</td>\n",
       "      <td>0</td>\n",
       "      <td>0</td>\n",
       "      <td>0</td>\n",
       "      <td>1</td>\n",
       "      <td>125.0</td>\n",
       "      <td>4.828314</td>\n",
       "    </tr>\n",
       "    <tr>\n",
       "      <th>1</th>\n",
       "      <td>5557381</td>\n",
       "      <td>28811542</td>\n",
       "      <td>0.547748</td>\n",
       "      <td>-0.427395</td>\n",
       "      <td>-0.545710</td>\n",
       "      <td>1.977504</td>\n",
       "      <td>-0.094294</td>\n",
       "      <td>-0.702867</td>\n",
       "      <td>-0.067513</td>\n",
       "      <td>-0.331292</td>\n",
       "      <td>...</td>\n",
       "      <td>0</td>\n",
       "      <td>0</td>\n",
       "      <td>0</td>\n",
       "      <td>0</td>\n",
       "      <td>0</td>\n",
       "      <td>0</td>\n",
       "      <td>0</td>\n",
       "      <td>1</td>\n",
       "      <td>69.0</td>\n",
       "      <td>4.234107</td>\n",
       "    </tr>\n",
       "    <tr>\n",
       "      <th>2</th>\n",
       "      <td>19609887</td>\n",
       "      <td>137892083</td>\n",
       "      <td>2.113321</td>\n",
       "      <td>1.102601</td>\n",
       "      <td>2.897119</td>\n",
       "      <td>-0.577640</td>\n",
       "      <td>-0.094294</td>\n",
       "      <td>2.032015</td>\n",
       "      <td>-0.148238</td>\n",
       "      <td>-0.331292</td>\n",
       "      <td>...</td>\n",
       "      <td>0</td>\n",
       "      <td>0</td>\n",
       "      <td>0</td>\n",
       "      <td>0</td>\n",
       "      <td>0</td>\n",
       "      <td>0</td>\n",
       "      <td>0</td>\n",
       "      <td>1</td>\n",
       "      <td>150.0</td>\n",
       "      <td>5.010635</td>\n",
       "    </tr>\n",
       "    <tr>\n",
       "      <th>3</th>\n",
       "      <td>7949480</td>\n",
       "      <td>119445</td>\n",
       "      <td>-0.495967</td>\n",
       "      <td>-0.427395</td>\n",
       "      <td>-0.545710</td>\n",
       "      <td>0.208558</td>\n",
       "      <td>-0.094294</td>\n",
       "      <td>2.601782</td>\n",
       "      <td>-0.228964</td>\n",
       "      <td>-0.331292</td>\n",
       "      <td>...</td>\n",
       "      <td>0</td>\n",
       "      <td>0</td>\n",
       "      <td>0</td>\n",
       "      <td>0</td>\n",
       "      <td>0</td>\n",
       "      <td>0</td>\n",
       "      <td>0</td>\n",
       "      <td>1</td>\n",
       "      <td>101.0</td>\n",
       "      <td>4.615121</td>\n",
       "    </tr>\n",
       "    <tr>\n",
       "      <th>4</th>\n",
       "      <td>1936633</td>\n",
       "      <td>10018391</td>\n",
       "      <td>-0.495967</td>\n",
       "      <td>-0.427395</td>\n",
       "      <td>0.314997</td>\n",
       "      <td>0.713971</td>\n",
       "      <td>-0.094294</td>\n",
       "      <td>-0.702867</td>\n",
       "      <td>-0.067513</td>\n",
       "      <td>-0.331292</td>\n",
       "      <td>...</td>\n",
       "      <td>0</td>\n",
       "      <td>0</td>\n",
       "      <td>0</td>\n",
       "      <td>0</td>\n",
       "      <td>0</td>\n",
       "      <td>0</td>\n",
       "      <td>0</td>\n",
       "      <td>1</td>\n",
       "      <td>115.0</td>\n",
       "      <td>4.744932</td>\n",
       "    </tr>\n",
       "  </tbody>\n",
       "</table>\n",
       "<p>5 rows × 236 columns</p>\n",
       "</div>"
      ],
      "text/plain": [
       "         id    host_id  accommodates  bedrooms      beds  number_of_reviews  \\\n",
       "0   6627449   13886510      0.025891 -0.427395 -0.545710          -0.072227   \n",
       "1   5557381   28811542      0.547748 -0.427395 -0.545710           1.977504   \n",
       "2  19609887  137892083      2.113321  1.102601  2.897119          -0.577640   \n",
       "3   7949480     119445     -0.495967 -0.427395 -0.545710           0.208558   \n",
       "4   1936633   10018391     -0.495967 -0.427395  0.314997           0.713971   \n",
       "\n",
       "   host_listings_count  availability_30  minimum_nights  bathrooms    ...      \\\n",
       "0            -0.094294         2.487829       -0.067513  -0.331292    ...       \n",
       "1            -0.094294        -0.702867       -0.067513  -0.331292    ...       \n",
       "2            -0.094294         2.032015       -0.148238  -0.331292    ...       \n",
       "3            -0.094294         2.601782       -0.228964  -0.331292    ...       \n",
       "4            -0.094294        -0.702867       -0.067513  -0.331292    ...       \n",
       "\n",
       "   40-49  50-59  60-69  70-79  80-84  85-89  90-94  95-100  price  price_log  \n",
       "0      0      0      0      0      0      0      0       1  125.0   4.828314  \n",
       "1      0      0      0      0      0      0      0       1   69.0   4.234107  \n",
       "2      0      0      0      0      0      0      0       1  150.0   5.010635  \n",
       "3      0      0      0      0      0      0      0       1  101.0   4.615121  \n",
       "4      0      0      0      0      0      0      0       1  115.0   4.744932  \n",
       "\n",
       "[5 rows x 236 columns]"
      ]
     },
     "execution_count": 526,
     "metadata": {},
     "output_type": "execute_result"
    }
   ],
   "source": [
    "# Read in data as a dataframe\n",
    "# Instantiate random forest and train on new features\n",
    "features = pd.read_csv('listings_detail_clean.csv')\n",
    "# features = features.fillna(0)\n",
    "features = features.dropna();\n",
    "features.head(5)"
   ]
  },
  {
   "cell_type": "code",
   "execution_count": 501,
   "metadata": {},
   "outputs": [
    {
     "name": "stdout",
     "output_type": "stream",
     "text": [
      "We have 22195 days of data with 236 variables\n"
     ]
    }
   ],
   "source": [
    "print('We have {} days of data with {} variables'.format(*features.shape))"
   ]
  },
  {
   "cell_type": "code",
   "execution_count": 502,
   "metadata": {},
   "outputs": [
    {
     "data": {
      "text/plain": [
       "False"
      ]
     },
     "execution_count": 502,
     "metadata": {},
     "output_type": "execute_result"
    }
   ],
   "source": [
    "features.isnull().values.any()"
   ]
  },
  {
   "cell_type": "code",
   "execution_count": 503,
   "metadata": {
    "scrolled": true
   },
   "outputs": [
    {
     "name": "stdout",
     "output_type": "stream",
     "text": [
      "<class 'pandas.core.frame.DataFrame'>\n",
      "Int64Index: 22195 entries, 0 to 22312\n",
      "Columns: 236 entries, id to price_log\n",
      "dtypes: float64(10), int64(226)\n",
      "memory usage: 40.1 MB\n"
     ]
    }
   ],
   "source": [
    "features.info()"
   ]
  },
  {
   "cell_type": "code",
   "execution_count": 504,
   "metadata": {},
   "outputs": [
    {
     "data": {
      "text/html": [
       "<div>\n",
       "<style>\n",
       "    .dataframe thead tr:only-child th {\n",
       "        text-align: right;\n",
       "    }\n",
       "\n",
       "    .dataframe thead th {\n",
       "        text-align: left;\n",
       "    }\n",
       "\n",
       "    .dataframe tbody tr th {\n",
       "        vertical-align: top;\n",
       "    }\n",
       "</style>\n",
       "<table border=\"1\" class=\"dataframe\">\n",
       "  <thead>\n",
       "    <tr style=\"text-align: right;\">\n",
       "      <th></th>\n",
       "      <th>id</th>\n",
       "      <th>host_id</th>\n",
       "      <th>accommodates</th>\n",
       "      <th>bedrooms</th>\n",
       "      <th>beds</th>\n",
       "      <th>number_of_reviews</th>\n",
       "      <th>host_listings_count</th>\n",
       "      <th>availability_30</th>\n",
       "      <th>minimum_nights</th>\n",
       "      <th>bathrooms</th>\n",
       "      <th>...</th>\n",
       "      <th>40-49</th>\n",
       "      <th>50-59</th>\n",
       "      <th>60-69</th>\n",
       "      <th>70-79</th>\n",
       "      <th>80-84</th>\n",
       "      <th>85-89</th>\n",
       "      <th>90-94</th>\n",
       "      <th>95-100</th>\n",
       "      <th>price</th>\n",
       "      <th>price_log</th>\n",
       "    </tr>\n",
       "  </thead>\n",
       "  <tbody>\n",
       "    <tr>\n",
       "      <th>0</th>\n",
       "      <td>6627449</td>\n",
       "      <td>13886510</td>\n",
       "      <td>0.025891</td>\n",
       "      <td>-0.427395</td>\n",
       "      <td>-0.545710</td>\n",
       "      <td>-0.072227</td>\n",
       "      <td>-0.094294</td>\n",
       "      <td>2.487829</td>\n",
       "      <td>-0.067513</td>\n",
       "      <td>-0.331292</td>\n",
       "      <td>...</td>\n",
       "      <td>0</td>\n",
       "      <td>0</td>\n",
       "      <td>0</td>\n",
       "      <td>0</td>\n",
       "      <td>0</td>\n",
       "      <td>0</td>\n",
       "      <td>0</td>\n",
       "      <td>1</td>\n",
       "      <td>125.0</td>\n",
       "      <td>4.828314</td>\n",
       "    </tr>\n",
       "    <tr>\n",
       "      <th>1</th>\n",
       "      <td>5557381</td>\n",
       "      <td>28811542</td>\n",
       "      <td>0.547748</td>\n",
       "      <td>-0.427395</td>\n",
       "      <td>-0.545710</td>\n",
       "      <td>1.977504</td>\n",
       "      <td>-0.094294</td>\n",
       "      <td>-0.702867</td>\n",
       "      <td>-0.067513</td>\n",
       "      <td>-0.331292</td>\n",
       "      <td>...</td>\n",
       "      <td>0</td>\n",
       "      <td>0</td>\n",
       "      <td>0</td>\n",
       "      <td>0</td>\n",
       "      <td>0</td>\n",
       "      <td>0</td>\n",
       "      <td>0</td>\n",
       "      <td>1</td>\n",
       "      <td>69.0</td>\n",
       "      <td>4.234107</td>\n",
       "    </tr>\n",
       "    <tr>\n",
       "      <th>2</th>\n",
       "      <td>19609887</td>\n",
       "      <td>137892083</td>\n",
       "      <td>2.113321</td>\n",
       "      <td>1.102601</td>\n",
       "      <td>2.897119</td>\n",
       "      <td>-0.577640</td>\n",
       "      <td>-0.094294</td>\n",
       "      <td>2.032015</td>\n",
       "      <td>-0.148238</td>\n",
       "      <td>-0.331292</td>\n",
       "      <td>...</td>\n",
       "      <td>0</td>\n",
       "      <td>0</td>\n",
       "      <td>0</td>\n",
       "      <td>0</td>\n",
       "      <td>0</td>\n",
       "      <td>0</td>\n",
       "      <td>0</td>\n",
       "      <td>1</td>\n",
       "      <td>150.0</td>\n",
       "      <td>5.010635</td>\n",
       "    </tr>\n",
       "    <tr>\n",
       "      <th>3</th>\n",
       "      <td>7949480</td>\n",
       "      <td>119445</td>\n",
       "      <td>-0.495967</td>\n",
       "      <td>-0.427395</td>\n",
       "      <td>-0.545710</td>\n",
       "      <td>0.208558</td>\n",
       "      <td>-0.094294</td>\n",
       "      <td>2.601782</td>\n",
       "      <td>-0.228964</td>\n",
       "      <td>-0.331292</td>\n",
       "      <td>...</td>\n",
       "      <td>0</td>\n",
       "      <td>0</td>\n",
       "      <td>0</td>\n",
       "      <td>0</td>\n",
       "      <td>0</td>\n",
       "      <td>0</td>\n",
       "      <td>0</td>\n",
       "      <td>1</td>\n",
       "      <td>101.0</td>\n",
       "      <td>4.615121</td>\n",
       "    </tr>\n",
       "    <tr>\n",
       "      <th>4</th>\n",
       "      <td>1936633</td>\n",
       "      <td>10018391</td>\n",
       "      <td>-0.495967</td>\n",
       "      <td>-0.427395</td>\n",
       "      <td>0.314997</td>\n",
       "      <td>0.713971</td>\n",
       "      <td>-0.094294</td>\n",
       "      <td>-0.702867</td>\n",
       "      <td>-0.067513</td>\n",
       "      <td>-0.331292</td>\n",
       "      <td>...</td>\n",
       "      <td>0</td>\n",
       "      <td>0</td>\n",
       "      <td>0</td>\n",
       "      <td>0</td>\n",
       "      <td>0</td>\n",
       "      <td>0</td>\n",
       "      <td>0</td>\n",
       "      <td>1</td>\n",
       "      <td>115.0</td>\n",
       "      <td>4.744932</td>\n",
       "    </tr>\n",
       "  </tbody>\n",
       "</table>\n",
       "<p>5 rows × 236 columns</p>\n",
       "</div>"
      ],
      "text/plain": [
       "         id    host_id  accommodates  bedrooms      beds  number_of_reviews  \\\n",
       "0   6627449   13886510      0.025891 -0.427395 -0.545710          -0.072227   \n",
       "1   5557381   28811542      0.547748 -0.427395 -0.545710           1.977504   \n",
       "2  19609887  137892083      2.113321  1.102601  2.897119          -0.577640   \n",
       "3   7949480     119445     -0.495967 -0.427395 -0.545710           0.208558   \n",
       "4   1936633   10018391     -0.495967 -0.427395  0.314997           0.713971   \n",
       "\n",
       "   host_listings_count  availability_30  minimum_nights  bathrooms    ...      \\\n",
       "0            -0.094294         2.487829       -0.067513  -0.331292    ...       \n",
       "1            -0.094294        -0.702867       -0.067513  -0.331292    ...       \n",
       "2            -0.094294         2.032015       -0.148238  -0.331292    ...       \n",
       "3            -0.094294         2.601782       -0.228964  -0.331292    ...       \n",
       "4            -0.094294        -0.702867       -0.067513  -0.331292    ...       \n",
       "\n",
       "   40-49  50-59  60-69  70-79  80-84  85-89  90-94  95-100  price  price_log  \n",
       "0      0      0      0      0      0      0      0       1  125.0   4.828314  \n",
       "1      0      0      0      0      0      0      0       1   69.0   4.234107  \n",
       "2      0      0      0      0      0      0      0       1  150.0   5.010635  \n",
       "3      0      0      0      0      0      0      0       1  101.0   4.615121  \n",
       "4      0      0      0      0      0      0      0       1  115.0   4.744932  \n",
       "\n",
       "[5 rows x 236 columns]"
      ]
     },
     "execution_count": 504,
     "metadata": {},
     "output_type": "execute_result"
    }
   ],
   "source": [
    "features.head()"
   ]
  },
  {
   "cell_type": "code",
   "execution_count": 505,
   "metadata": {
    "collapsed": true
   },
   "outputs": [],
   "source": [
    "# features = pd.get_dummies(features)\n",
    "# Extract features and labels\n",
    "labels = features['price']\n",
    "labels2 = features['price_log']\n",
    "features = features.drop(['price','id','host_id','price_log', 'host_listings_count'], axis = 1)\n",
    "features.head()\n",
    "feature_list = list(features.columns)\n",
    "\n",
    "# Training and Testing Sets\n",
    "train_features, test_features, train_labels, test_labels = train_test_split(features, labels, test_size = 0.20, random_state = 0)"
   ]
  },
  {
   "cell_type": "code",
   "execution_count": 506,
   "metadata": {},
   "outputs": [
    {
     "data": {
      "text/html": [
       "<div>\n",
       "<style>\n",
       "    .dataframe thead tr:only-child th {\n",
       "        text-align: right;\n",
       "    }\n",
       "\n",
       "    .dataframe thead th {\n",
       "        text-align: left;\n",
       "    }\n",
       "\n",
       "    .dataframe tbody tr th {\n",
       "        vertical-align: top;\n",
       "    }\n",
       "</style>\n",
       "<table border=\"1\" class=\"dataframe\">\n",
       "  <thead>\n",
       "    <tr style=\"text-align: right;\">\n",
       "      <th></th>\n",
       "      <th>accommodates</th>\n",
       "      <th>bedrooms</th>\n",
       "      <th>beds</th>\n",
       "      <th>number_of_reviews</th>\n",
       "      <th>availability_30</th>\n",
       "      <th>minimum_nights</th>\n",
       "      <th>bathrooms</th>\n",
       "      <th>10000</th>\n",
       "      <th>10001</th>\n",
       "      <th>10002</th>\n",
       "      <th>...</th>\n",
       "      <th>20-29</th>\n",
       "      <th>30-39</th>\n",
       "      <th>40-49</th>\n",
       "      <th>50-59</th>\n",
       "      <th>60-69</th>\n",
       "      <th>70-79</th>\n",
       "      <th>80-84</th>\n",
       "      <th>85-89</th>\n",
       "      <th>90-94</th>\n",
       "      <th>95-100</th>\n",
       "    </tr>\n",
       "  </thead>\n",
       "  <tbody>\n",
       "    <tr>\n",
       "      <th>0</th>\n",
       "      <td>0.025891</td>\n",
       "      <td>-0.427395</td>\n",
       "      <td>-0.545710</td>\n",
       "      <td>-0.072227</td>\n",
       "      <td>2.487829</td>\n",
       "      <td>-0.067513</td>\n",
       "      <td>-0.331292</td>\n",
       "      <td>0</td>\n",
       "      <td>0</td>\n",
       "      <td>0</td>\n",
       "      <td>...</td>\n",
       "      <td>0</td>\n",
       "      <td>0</td>\n",
       "      <td>0</td>\n",
       "      <td>0</td>\n",
       "      <td>0</td>\n",
       "      <td>0</td>\n",
       "      <td>0</td>\n",
       "      <td>0</td>\n",
       "      <td>0</td>\n",
       "      <td>1</td>\n",
       "    </tr>\n",
       "    <tr>\n",
       "      <th>1</th>\n",
       "      <td>0.547748</td>\n",
       "      <td>-0.427395</td>\n",
       "      <td>-0.545710</td>\n",
       "      <td>1.977504</td>\n",
       "      <td>-0.702867</td>\n",
       "      <td>-0.067513</td>\n",
       "      <td>-0.331292</td>\n",
       "      <td>0</td>\n",
       "      <td>0</td>\n",
       "      <td>0</td>\n",
       "      <td>...</td>\n",
       "      <td>0</td>\n",
       "      <td>0</td>\n",
       "      <td>0</td>\n",
       "      <td>0</td>\n",
       "      <td>0</td>\n",
       "      <td>0</td>\n",
       "      <td>0</td>\n",
       "      <td>0</td>\n",
       "      <td>0</td>\n",
       "      <td>1</td>\n",
       "    </tr>\n",
       "    <tr>\n",
       "      <th>2</th>\n",
       "      <td>2.113321</td>\n",
       "      <td>1.102601</td>\n",
       "      <td>2.897119</td>\n",
       "      <td>-0.577640</td>\n",
       "      <td>2.032015</td>\n",
       "      <td>-0.148238</td>\n",
       "      <td>-0.331292</td>\n",
       "      <td>0</td>\n",
       "      <td>0</td>\n",
       "      <td>0</td>\n",
       "      <td>...</td>\n",
       "      <td>0</td>\n",
       "      <td>0</td>\n",
       "      <td>0</td>\n",
       "      <td>0</td>\n",
       "      <td>0</td>\n",
       "      <td>0</td>\n",
       "      <td>0</td>\n",
       "      <td>0</td>\n",
       "      <td>0</td>\n",
       "      <td>1</td>\n",
       "    </tr>\n",
       "    <tr>\n",
       "      <th>3</th>\n",
       "      <td>-0.495967</td>\n",
       "      <td>-0.427395</td>\n",
       "      <td>-0.545710</td>\n",
       "      <td>0.208558</td>\n",
       "      <td>2.601782</td>\n",
       "      <td>-0.228964</td>\n",
       "      <td>-0.331292</td>\n",
       "      <td>0</td>\n",
       "      <td>0</td>\n",
       "      <td>0</td>\n",
       "      <td>...</td>\n",
       "      <td>0</td>\n",
       "      <td>0</td>\n",
       "      <td>0</td>\n",
       "      <td>0</td>\n",
       "      <td>0</td>\n",
       "      <td>0</td>\n",
       "      <td>0</td>\n",
       "      <td>0</td>\n",
       "      <td>0</td>\n",
       "      <td>1</td>\n",
       "    </tr>\n",
       "    <tr>\n",
       "      <th>4</th>\n",
       "      <td>-0.495967</td>\n",
       "      <td>-0.427395</td>\n",
       "      <td>0.314997</td>\n",
       "      <td>0.713971</td>\n",
       "      <td>-0.702867</td>\n",
       "      <td>-0.067513</td>\n",
       "      <td>-0.331292</td>\n",
       "      <td>0</td>\n",
       "      <td>0</td>\n",
       "      <td>0</td>\n",
       "      <td>...</td>\n",
       "      <td>0</td>\n",
       "      <td>0</td>\n",
       "      <td>0</td>\n",
       "      <td>0</td>\n",
       "      <td>0</td>\n",
       "      <td>0</td>\n",
       "      <td>0</td>\n",
       "      <td>0</td>\n",
       "      <td>0</td>\n",
       "      <td>1</td>\n",
       "    </tr>\n",
       "  </tbody>\n",
       "</table>\n",
       "<p>5 rows × 231 columns</p>\n",
       "</div>"
      ],
      "text/plain": [
       "   accommodates  bedrooms      beds  number_of_reviews  availability_30  \\\n",
       "0      0.025891 -0.427395 -0.545710          -0.072227         2.487829   \n",
       "1      0.547748 -0.427395 -0.545710           1.977504        -0.702867   \n",
       "2      2.113321  1.102601  2.897119          -0.577640         2.032015   \n",
       "3     -0.495967 -0.427395 -0.545710           0.208558         2.601782   \n",
       "4     -0.495967 -0.427395  0.314997           0.713971        -0.702867   \n",
       "\n",
       "   minimum_nights  bathrooms  10000  10001  10002   ...    20-29  30-39  \\\n",
       "0       -0.067513  -0.331292      0      0      0   ...        0      0   \n",
       "1       -0.067513  -0.331292      0      0      0   ...        0      0   \n",
       "2       -0.148238  -0.331292      0      0      0   ...        0      0   \n",
       "3       -0.228964  -0.331292      0      0      0   ...        0      0   \n",
       "4       -0.067513  -0.331292      0      0      0   ...        0      0   \n",
       "\n",
       "   40-49  50-59  60-69  70-79  80-84  85-89  90-94  95-100  \n",
       "0      0      0      0      0      0      0      0       1  \n",
       "1      0      0      0      0      0      0      0       1  \n",
       "2      0      0      0      0      0      0      0       1  \n",
       "3      0      0      0      0      0      0      0       1  \n",
       "4      0      0      0      0      0      0      0       1  \n",
       "\n",
       "[5 rows x 231 columns]"
      ]
     },
     "execution_count": 506,
     "metadata": {},
     "output_type": "execute_result"
    }
   ],
   "source": [
    "features.head()"
   ]
  },
  {
   "cell_type": "code",
   "execution_count": 485,
   "metadata": {},
   "outputs": [
    {
     "name": "stdout",
     "output_type": "stream",
     "text": [
      "Training Features Shape: (17756, 231)\n",
      "Training Labels Shape: (17756,)\n",
      "Testing Features Shape: (4439, 231)\n",
      "Testing Labels Shape: (4439,)\n"
     ]
    }
   ],
   "source": [
    "print('Training Features Shape:', train_features.shape)\n",
    "print('Training Labels Shape:', train_labels.shape)\n",
    "print('Testing Features Shape:', test_features.shape)\n",
    "print('Testing Labels Shape:', test_labels.shape)\n"
   ]
  },
  {
   "cell_type": "code",
   "execution_count": 486,
   "metadata": {
    "scrolled": true
   },
   "outputs": [
    {
     "data": {
      "text/plain": [
       "RandomForestRegressor(bootstrap=True, criterion='mse', max_depth=None,\n",
       "           max_features='auto', max_leaf_nodes=None,\n",
       "           min_impurity_decrease=0.0, min_impurity_split=None,\n",
       "           min_samples_leaf=1, min_samples_split=2,\n",
       "           min_weight_fraction_leaf=0.0, n_estimators=1000, n_jobs=1,\n",
       "           oob_score=False, random_state=100, verbose=0, warm_start=False)"
      ]
     },
     "execution_count": 486,
     "metadata": {},
     "output_type": "execute_result"
    }
   ],
   "source": [
    "\n",
    "\n",
    "rf_exp = RandomForestRegressor(n_estimators= 1000, random_state=100)\n",
    "rf_exp.fit(train_features, train_labels)\n",
    "\n",
    "rf_exp.fit(train_features, train_labels)\n",
    "\n"
   ]
  },
  {
   "cell_type": "code",
   "execution_count": 487,
   "metadata": {},
   "outputs": [
    {
     "name": "stdout",
     "output_type": "stream",
     "text": [
      "Metrics for Random Forest Trained on Expanded Data\n",
      "Average absolute error: 42.69 dollars.\n",
      "Accuracy: 68.46 %.\n"
     ]
    }
   ],
   "source": [
    "predictions = rf_exp.predict(test_features)\n",
    "# Performance metrics\n",
    "errors = abs(predictions - test_labels)\n",
    "print('Metrics for Random Forest Trained on Expanded Data')\n",
    "print('Average absolute error:', round(np.mean(errors), 2), 'dollars.')\n",
    "# Calculate mean absolute percentage error (MAPE)\n",
    "mape = np.mean(100 * (errors / test_labels))\n",
    "\n",
    "accuracy = 100 - mape\n",
    "print('Accuracy:', round(accuracy, 2), '%.')"
   ]
  },
  {
   "cell_type": "code",
   "execution_count": 488,
   "metadata": {},
   "outputs": [
    {
     "data": {
      "text/plain": [
       "20.806233333333395"
      ]
     },
     "execution_count": 488,
     "metadata": {},
     "output_type": "execute_result"
    }
   ],
   "source": [
    "# calculating median absolute error with price label\n",
    "median_absolute_error(test_labels, predictions)"
   ]
  },
  {
   "cell_type": "code",
   "execution_count": 489,
   "metadata": {},
   "outputs": [
    {
     "data": {
      "text/plain": [
       "42.6923970509485"
      ]
     },
     "execution_count": 489,
     "metadata": {},
     "output_type": "execute_result"
    }
   ],
   "source": [
    "# calculating mean absolute error with price label\n",
    "mean_absolute_error(test_labels, predictions)"
   ]
  },
  {
   "cell_type": "code",
   "execution_count": 490,
   "metadata": {},
   "outputs": [
    {
     "name": "stdout",
     "output_type": "stream",
     "text": [
      "[  95.9626       87.358        62.572        71.89266667  390.948       106.795\n",
      "  765.514       271.108        87.881       207.562     ] 16915    100.0\n",
      "9659      70.0\n",
      "1198      73.0\n",
      "15907     85.0\n",
      "6787     525.0\n",
      "21673    120.0\n",
      "16709    400.0\n",
      "11976    130.0\n",
      "15571    115.0\n",
      "12755    179.0\n",
      "Name: price, dtype: float64\n"
     ]
    }
   ],
   "source": [
    "# printing our predictions and actual data\n",
    "print (predictions[:10], test_labels[:10])"
   ]
  },
  {
   "cell_type": "code",
   "execution_count": 491,
   "metadata": {},
   "outputs": [
    {
     "data": {
      "text/html": [
       "<div>\n",
       "<style>\n",
       "    .dataframe thead tr:only-child th {\n",
       "        text-align: right;\n",
       "    }\n",
       "\n",
       "    .dataframe thead th {\n",
       "        text-align: left;\n",
       "    }\n",
       "\n",
       "    .dataframe tbody tr th {\n",
       "        vertical-align: top;\n",
       "    }\n",
       "</style>\n",
       "<table border=\"1\" class=\"dataframe\">\n",
       "  <thead>\n",
       "    <tr style=\"text-align: right;\">\n",
       "      <th></th>\n",
       "      <th>price_prediction</th>\n",
       "    </tr>\n",
       "  </thead>\n",
       "  <tbody>\n",
       "    <tr>\n",
       "      <th>0</th>\n",
       "      <td>95.962600</td>\n",
       "    </tr>\n",
       "    <tr>\n",
       "      <th>1</th>\n",
       "      <td>87.358000</td>\n",
       "    </tr>\n",
       "    <tr>\n",
       "      <th>2</th>\n",
       "      <td>62.572000</td>\n",
       "    </tr>\n",
       "    <tr>\n",
       "      <th>3</th>\n",
       "      <td>71.892667</td>\n",
       "    </tr>\n",
       "    <tr>\n",
       "      <th>4</th>\n",
       "      <td>390.948000</td>\n",
       "    </tr>\n",
       "  </tbody>\n",
       "</table>\n",
       "</div>"
      ],
      "text/plain": [
       "   price_prediction\n",
       "0         95.962600\n",
       "1         87.358000\n",
       "2         62.572000\n",
       "3         71.892667\n",
       "4        390.948000"
      ]
     },
     "execution_count": 491,
     "metadata": {},
     "output_type": "execute_result"
    }
   ],
   "source": [
    "pred_df=pd.DataFrame(predictions, columns=['price_prediction']) \n",
    "pred_df.head()"
   ]
  },
  {
   "cell_type": "code",
   "execution_count": 514,
   "metadata": {
    "collapsed": true
   },
   "outputs": [],
   "source": [
    "train_features, test_features, train_labels, test_labels = train_test_split(features, labels2, test_size = 0.20, random_state = 0)"
   ]
  },
  {
   "cell_type": "code",
   "execution_count": 515,
   "metadata": {},
   "outputs": [
    {
     "name": "stdout",
     "output_type": "stream",
     "text": [
      "Training Features Shape: (17756, 231)\n",
      "Training Labels Shape: (17756,)\n",
      "Testing Features Shape: (4439, 231)\n",
      "Testing Labels Shape: (4439,)\n"
     ]
    }
   ],
   "source": [
    "print('Training Features Shape:', train_features.shape)\n",
    "print('Training Labels Shape:', train_labels.shape)\n",
    "print('Testing Features Shape:', test_features.shape)\n",
    "print('Testing Labels Shape:', test_labels.shape)\n"
   ]
  },
  {
   "cell_type": "code",
   "execution_count": 516,
   "metadata": {},
   "outputs": [
    {
     "data": {
      "text/plain": [
       "RandomForestRegressor(bootstrap=True, criterion='mse', max_depth=None,\n",
       "           max_features='auto', max_leaf_nodes=None,\n",
       "           min_impurity_decrease=0.0, min_impurity_split=None,\n",
       "           min_samples_leaf=1, min_samples_split=2,\n",
       "           min_weight_fraction_leaf=0.0, n_estimators=1000, n_jobs=1,\n",
       "           oob_score=False, random_state=100, verbose=0, warm_start=False)"
      ]
     },
     "execution_count": 516,
     "metadata": {},
     "output_type": "execute_result"
    }
   ],
   "source": [
    "\n",
    "rf_exp2 = RandomForestRegressor(n_estimators= 1000, random_state=100)\n",
    "rf_exp2.fit(train_features, train_labels)\n",
    "\n",
    "\n",
    "rf_exp2.fit(train_features, train_labels)\n",
    "\n"
   ]
  },
  {
   "cell_type": "code",
   "execution_count": 517,
   "metadata": {},
   "outputs": [
    {
     "name": "stdout",
     "output_type": "stream",
     "text": [
      "Metrics for Random Forest Trained on Expanded Data\n",
      "Average absolute error: 0.27 dollars.\n",
      "Accuracy: 94.28 %.\n"
     ]
    }
   ],
   "source": [
    "predictions2 = rf_exp2.predict(test_features)\n",
    "# Performance metrics\n",
    "errors = abs(predictions2 - test_labels)\n",
    "print('Metrics for Random Forest Trained on Expanded Data')\n",
    "print('Average absolute error:', round(np.mean(errors), 2), 'dollars.')\n",
    "# Calculate mean absolute percentage error (MAPE)\n",
    "mape = np.mean(100 * (errors / test_labels))\n",
    "accuracy = 100 - mape\n",
    "print('Accuracy:', round(accuracy, 2), '%.')"
   ]
  },
  {
   "cell_type": "code",
   "execution_count": 518,
   "metadata": {},
   "outputs": [
    {
     "data": {
      "text/plain": [
       "20.126400293008743"
      ]
     },
     "execution_count": 518,
     "metadata": {},
     "output_type": "execute_result"
    }
   ],
   "source": [
    "# calculating median absolute error with price_log label\n",
    "median_absolute_error(np.exp(test_labels), np.exp(predictions2))"
   ]
  },
  {
   "cell_type": "code",
   "execution_count": 520,
   "metadata": {},
   "outputs": [
    {
     "data": {
      "text/plain": [
       "39.434004559610486"
      ]
     },
     "execution_count": 520,
     "metadata": {},
     "output_type": "execute_result"
    }
   ],
   "source": [
    "# calculating mean absolute error with price_log label\n",
    "mean_absolute_error(np.exp(test_labels), np.exp(predictions2))"
   ]
  },
  {
   "cell_type": "code",
   "execution_count": 523,
   "metadata": {},
   "outputs": [
    {
     "data": {
      "text/html": [
       "<div>\n",
       "<style>\n",
       "    .dataframe thead tr:only-child th {\n",
       "        text-align: right;\n",
       "    }\n",
       "\n",
       "    .dataframe thead th {\n",
       "        text-align: left;\n",
       "    }\n",
       "\n",
       "    .dataframe tbody tr th {\n",
       "        vertical-align: top;\n",
       "    }\n",
       "</style>\n",
       "<table border=\"1\" class=\"dataframe\">\n",
       "  <thead>\n",
       "    <tr style=\"text-align: right;\">\n",
       "      <th></th>\n",
       "      <th>price_prediction</th>\n",
       "    </tr>\n",
       "  </thead>\n",
       "  <tbody>\n",
       "    <tr>\n",
       "      <th>0</th>\n",
       "      <td>4.621714</td>\n",
       "    </tr>\n",
       "    <tr>\n",
       "      <th>1</th>\n",
       "      <td>4.427373</td>\n",
       "    </tr>\n",
       "    <tr>\n",
       "      <th>2</th>\n",
       "      <td>4.121965</td>\n",
       "    </tr>\n",
       "    <tr>\n",
       "      <th>3</th>\n",
       "      <td>4.186467</td>\n",
       "    </tr>\n",
       "    <tr>\n",
       "      <th>4</th>\n",
       "      <td>5.657353</td>\n",
       "    </tr>\n",
       "  </tbody>\n",
       "</table>\n",
       "</div>"
      ],
      "text/plain": [
       "   price_prediction\n",
       "0          4.621714\n",
       "1          4.427373\n",
       "2          4.121965\n",
       "3          4.186467\n",
       "4          5.657353"
      ]
     },
     "execution_count": 523,
     "metadata": {},
     "output_type": "execute_result"
    }
   ],
   "source": [
    "# adding the predicted values into dataframes\n",
    "pred_df=pd.DataFrame(predictions2, columns=['price_prediction']) \n",
    "pred_df.head()"
   ]
  },
  {
   "cell_type": "code",
   "execution_count": 524,
   "metadata": {},
   "outputs": [
    {
     "name": "stdout",
     "output_type": "stream",
     "text": [
      "[ 4.62171407  4.42737322  4.1219652   4.18646728  5.65735294  4.6100392\n",
      "  6.07994635  5.55065068  4.38938127  5.21348629] 16915    4.605170\n",
      "9659     4.248495\n",
      "1198     4.290459\n",
      "15907    4.442651\n",
      "6787     6.263398\n",
      "21673    4.787492\n",
      "16709    5.991465\n",
      "11976    4.867534\n",
      "15571    4.744932\n",
      "12755    5.187386\n",
      "Name: price_log, dtype: float64\n"
     ]
    }
   ],
   "source": [
    "# printing our predictions and actual data\n",
    "print (predictions2[:10], test_labels[:10])"
   ]
  }
 ],
 "metadata": {
  "kernelspec": {
   "display_name": "Python 3",
   "language": "python",
   "name": "python3"
  },
  "language_info": {
   "codemirror_mode": {
    "name": "ipython",
    "version": 3
   },
   "file_extension": ".py",
   "mimetype": "text/x-python",
   "name": "python",
   "nbconvert_exporter": "python",
   "pygments_lexer": "ipython3",
   "version": "3.6.3"
  }
 },
 "nbformat": 4,
 "nbformat_minor": 2
}
