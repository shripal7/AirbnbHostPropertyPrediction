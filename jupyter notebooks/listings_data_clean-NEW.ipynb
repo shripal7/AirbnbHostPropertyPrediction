{
 "cells": [
  {
   "cell_type": "code",
   "execution_count": 1,
   "metadata": {
    "collapsed": true
   },
   "outputs": [],
   "source": [
    "import pandas as pd\n",
    "import numpy as np\n",
    "\n",
    "import matplotlib\n",
    "import matplotlib.pyplot as plt\n",
    "import matplotlib.cm as cmx\n",
    "import matplotlib.colors as colors\n",
    "# import seaborn as sb\n",
    "import math\n",
    "import pylab\n",
    "import scipy.stats as stats\n",
    "%matplotlib inline"
   ]
  },
  {
   "cell_type": "code",
   "execution_count": 2,
   "metadata": {},
   "outputs": [
    {
     "name": "stderr",
     "output_type": "stream",
     "text": [
      "/Users/shripalmodani/anaconda3/lib/python3.6/site-packages/IPython/core/interactiveshell.py:2698: DtypeWarning: Columns (43,88) have mixed types. Specify dtype option on import or set low_memory=False.\n",
      "  interactivity=interactivity, compiler=compiler, result=result)\n"
     ]
    }
   ],
   "source": [
    "#  read csv file into dataframe\n",
    "data = pd.read_csv('listings_detail.csv')"
   ]
  },
  {
   "cell_type": "code",
   "execution_count": 3,
   "metadata": {
    "collapsed": true
   },
   "outputs": [],
   "source": [
    "cols = [\n",
    "    'id',\n",
    "    'host_id',\n",
    "    'zipcode',\n",
    "    'property_type',\n",
    "    'room_type',\n",
    "    'accommodates',\n",
    "    'bedrooms',\n",
    "    'beds',\n",
    "    'bed_type',\n",
    "    'price',\n",
    "    'number_of_reviews',\n",
    "    'review_scores_rating',\n",
    "    'host_listings_count',\n",
    "    'availability_30',\n",
    "    'minimum_nights',\n",
    "    'bathrooms'\n",
    "]\n",
    "data = data[cols]"
   ]
  },
  {
   "cell_type": "code",
   "execution_count": 4,
   "metadata": {},
   "outputs": [
    {
     "data": {
      "text/html": [
       "<div>\n",
       "<style>\n",
       "    .dataframe thead tr:only-child th {\n",
       "        text-align: right;\n",
       "    }\n",
       "\n",
       "    .dataframe thead th {\n",
       "        text-align: left;\n",
       "    }\n",
       "\n",
       "    .dataframe tbody tr th {\n",
       "        vertical-align: top;\n",
       "    }\n",
       "</style>\n",
       "<table border=\"1\" class=\"dataframe\">\n",
       "  <thead>\n",
       "    <tr style=\"text-align: right;\">\n",
       "      <th></th>\n",
       "      <th>id</th>\n",
       "      <th>host_id</th>\n",
       "      <th>zipcode</th>\n",
       "      <th>property_type</th>\n",
       "      <th>room_type</th>\n",
       "      <th>accommodates</th>\n",
       "      <th>bedrooms</th>\n",
       "      <th>beds</th>\n",
       "      <th>bed_type</th>\n",
       "      <th>price</th>\n",
       "      <th>number_of_reviews</th>\n",
       "      <th>review_scores_rating</th>\n",
       "      <th>host_listings_count</th>\n",
       "      <th>availability_30</th>\n",
       "      <th>minimum_nights</th>\n",
       "      <th>bathrooms</th>\n",
       "    </tr>\n",
       "  </thead>\n",
       "  <tbody>\n",
       "    <tr>\n",
       "      <th>0</th>\n",
       "      <td>18461891</td>\n",
       "      <td>916092</td>\n",
       "      <td>11105</td>\n",
       "      <td>Apartment</td>\n",
       "      <td>Entire home/apt</td>\n",
       "      <td>2</td>\n",
       "      <td>0.0</td>\n",
       "      <td>1.0</td>\n",
       "      <td>Real Bed</td>\n",
       "      <td>$110.00</td>\n",
       "      <td>0</td>\n",
       "      <td>NaN</td>\n",
       "      <td>1.0</td>\n",
       "      <td>0</td>\n",
       "      <td>6</td>\n",
       "      <td>1.0</td>\n",
       "    </tr>\n",
       "    <tr>\n",
       "      <th>1</th>\n",
       "      <td>20702398</td>\n",
       "      <td>1457680</td>\n",
       "      <td>NaN</td>\n",
       "      <td>House</td>\n",
       "      <td>Private room</td>\n",
       "      <td>2</td>\n",
       "      <td>1.0</td>\n",
       "      <td>1.0</td>\n",
       "      <td>Real Bed</td>\n",
       "      <td>$50.00</td>\n",
       "      <td>2</td>\n",
       "      <td>100.0</td>\n",
       "      <td>1.0</td>\n",
       "      <td>19</td>\n",
       "      <td>1</td>\n",
       "      <td>1.0</td>\n",
       "    </tr>\n",
       "    <tr>\n",
       "      <th>2</th>\n",
       "      <td>6627449</td>\n",
       "      <td>13886510</td>\n",
       "      <td>10464</td>\n",
       "      <td>Apartment</td>\n",
       "      <td>Entire home/apt</td>\n",
       "      <td>3</td>\n",
       "      <td>1.0</td>\n",
       "      <td>1.0</td>\n",
       "      <td>Real Bed</td>\n",
       "      <td>$125.00</td>\n",
       "      <td>21</td>\n",
       "      <td>95.0</td>\n",
       "      <td>1.0</td>\n",
       "      <td>28</td>\n",
       "      <td>3</td>\n",
       "      <td>1.0</td>\n",
       "    </tr>\n",
       "    <tr>\n",
       "      <th>3</th>\n",
       "      <td>19949243</td>\n",
       "      <td>1149260</td>\n",
       "      <td>10464</td>\n",
       "      <td>Boat</td>\n",
       "      <td>Entire home/apt</td>\n",
       "      <td>4</td>\n",
       "      <td>1.0</td>\n",
       "      <td>3.0</td>\n",
       "      <td>Real Bed</td>\n",
       "      <td>$100.00</td>\n",
       "      <td>0</td>\n",
       "      <td>NaN</td>\n",
       "      <td>1.0</td>\n",
       "      <td>30</td>\n",
       "      <td>3</td>\n",
       "      <td>1.0</td>\n",
       "    </tr>\n",
       "    <tr>\n",
       "      <th>4</th>\n",
       "      <td>1886820</td>\n",
       "      <td>9815788</td>\n",
       "      <td>10464</td>\n",
       "      <td>House</td>\n",
       "      <td>Entire home/apt</td>\n",
       "      <td>4</td>\n",
       "      <td>3.0</td>\n",
       "      <td>3.0</td>\n",
       "      <td>Real Bed</td>\n",
       "      <td>$300.00</td>\n",
       "      <td>0</td>\n",
       "      <td>NaN</td>\n",
       "      <td>1.0</td>\n",
       "      <td>30</td>\n",
       "      <td>7</td>\n",
       "      <td>3.0</td>\n",
       "    </tr>\n",
       "  </tbody>\n",
       "</table>\n",
       "</div>"
      ],
      "text/plain": [
       "         id   host_id zipcode property_type        room_type  accommodates  \\\n",
       "0  18461891    916092   11105     Apartment  Entire home/apt             2   \n",
       "1  20702398   1457680     NaN         House     Private room             2   \n",
       "2   6627449  13886510   10464     Apartment  Entire home/apt             3   \n",
       "3  19949243   1149260   10464          Boat  Entire home/apt             4   \n",
       "4   1886820   9815788   10464         House  Entire home/apt             4   \n",
       "\n",
       "   bedrooms  beds  bed_type    price  number_of_reviews  review_scores_rating  \\\n",
       "0       0.0   1.0  Real Bed  $110.00                  0                   NaN   \n",
       "1       1.0   1.0  Real Bed   $50.00                  2                 100.0   \n",
       "2       1.0   1.0  Real Bed  $125.00                 21                  95.0   \n",
       "3       1.0   3.0  Real Bed  $100.00                  0                   NaN   \n",
       "4       3.0   3.0  Real Bed  $300.00                  0                   NaN   \n",
       "\n",
       "   host_listings_count  availability_30  minimum_nights  bathrooms  \n",
       "0                  1.0                0               6        1.0  \n",
       "1                  1.0               19               1        1.0  \n",
       "2                  1.0               28               3        1.0  \n",
       "3                  1.0               30               3        1.0  \n",
       "4                  1.0               30               7        3.0  "
      ]
     },
     "execution_count": 4,
     "metadata": {},
     "output_type": "execute_result"
    }
   ],
   "source": [
    "data.head()"
   ]
  },
  {
   "cell_type": "code",
   "execution_count": 5,
   "metadata": {},
   "outputs": [],
   "source": [
    "# print(data.isnull().sum())"
   ]
  },
  {
   "cell_type": "code",
   "execution_count": 6,
   "metadata": {},
   "outputs": [
    {
     "name": "stdout",
     "output_type": "stream",
     "text": [
      "NaN values removed: 851\n"
     ]
    }
   ],
   "source": [
    "# deleting the NaN values\n",
    "original = len(data)\n",
    "data = data.dropna(how='any', subset=['zipcode', 'property_type', 'bedrooms', 'beds', 'bathrooms'])\n",
    "print('NaN values removed:', original - len(data))"
   ]
  },
  {
   "cell_type": "code",
   "execution_count": 7,
   "metadata": {
    "collapsed": true
   },
   "outputs": [],
   "source": [
    "# changing the price formatting\n",
    "data['price'] = (data['price'].str.replace(r'[^-+\\d.]', '').astype(float))\n",
    "\n",
    "# ZipCode conversion\n",
    "data['zipcode'] = data['zipcode'].str.replace(r'-\\d+', '')"
   ]
  },
  {
   "cell_type": "code",
   "execution_count": 8,
   "metadata": {},
   "outputs": [
    {
     "name": "stdout",
     "output_type": "stream",
     "text": [
      "Total invalid accommodates(0) : 0\n",
      "Total invalid Beds(0): 2\n",
      "Total invalid Bedrooms(0) : 3972\n",
      "Total Invalid listings( $0.00): 48\n"
     ]
    }
   ],
   "source": [
    "# removing inconsistent values\n",
    "print('Total invalid accommodates(0) :', len(data[data['accommodates'] == 0]))\n",
    "print('Total invalid Beds(0):', len(data[data['beds'] == 0]))\n",
    "print('Total invalid Bedrooms(0) :', len(data[data['bedrooms'] == 0]))\n",
    "print('Total Invalid listings( $0.00):', len(data[data['price'] == 0.00]))\n",
    "\n",
    "data = data[data['accommodates'] != 0]\n",
    "data = data[data['bedrooms'] != 0]\n",
    "data = data[data['beds'] != 0]\n",
    "data = data[data['price'] != 0.00]"
   ]
  },
  {
   "cell_type": "code",
   "execution_count": 9,
   "metadata": {},
   "outputs": [
    {
     "data": {
      "text/html": [
       "<div>\n",
       "<style>\n",
       "    .dataframe thead tr:only-child th {\n",
       "        text-align: right;\n",
       "    }\n",
       "\n",
       "    .dataframe thead th {\n",
       "        text-align: left;\n",
       "    }\n",
       "\n",
       "    .dataframe tbody tr th {\n",
       "        vertical-align: top;\n",
       "    }\n",
       "</style>\n",
       "<table border=\"1\" class=\"dataframe\">\n",
       "  <thead>\n",
       "    <tr style=\"text-align: right;\">\n",
       "      <th></th>\n",
       "      <th>id</th>\n",
       "      <th>host_id</th>\n",
       "      <th>zipcode</th>\n",
       "      <th>property_type</th>\n",
       "      <th>room_type</th>\n",
       "      <th>accommodates</th>\n",
       "      <th>bedrooms</th>\n",
       "      <th>beds</th>\n",
       "      <th>bed_type</th>\n",
       "      <th>price</th>\n",
       "      <th>number_of_reviews</th>\n",
       "      <th>review_scores_rating</th>\n",
       "      <th>host_listings_count</th>\n",
       "      <th>availability_30</th>\n",
       "      <th>minimum_nights</th>\n",
       "      <th>bathrooms</th>\n",
       "    </tr>\n",
       "  </thead>\n",
       "  <tbody>\n",
       "    <tr>\n",
       "      <th>2</th>\n",
       "      <td>6627449</td>\n",
       "      <td>13886510</td>\n",
       "      <td>10464</td>\n",
       "      <td>Apartment</td>\n",
       "      <td>Entire home/apt</td>\n",
       "      <td>3</td>\n",
       "      <td>1.0</td>\n",
       "      <td>1.0</td>\n",
       "      <td>Real Bed</td>\n",
       "      <td>125.0</td>\n",
       "      <td>21</td>\n",
       "      <td>95.0</td>\n",
       "      <td>1.0</td>\n",
       "      <td>28</td>\n",
       "      <td>3</td>\n",
       "      <td>1.0</td>\n",
       "    </tr>\n",
       "    <tr>\n",
       "      <th>3</th>\n",
       "      <td>19949243</td>\n",
       "      <td>1149260</td>\n",
       "      <td>10464</td>\n",
       "      <td>Boat</td>\n",
       "      <td>Entire home/apt</td>\n",
       "      <td>4</td>\n",
       "      <td>1.0</td>\n",
       "      <td>3.0</td>\n",
       "      <td>Real Bed</td>\n",
       "      <td>100.0</td>\n",
       "      <td>0</td>\n",
       "      <td>NaN</td>\n",
       "      <td>1.0</td>\n",
       "      <td>30</td>\n",
       "      <td>3</td>\n",
       "      <td>1.0</td>\n",
       "    </tr>\n",
       "    <tr>\n",
       "      <th>4</th>\n",
       "      <td>1886820</td>\n",
       "      <td>9815788</td>\n",
       "      <td>10464</td>\n",
       "      <td>House</td>\n",
       "      <td>Entire home/apt</td>\n",
       "      <td>4</td>\n",
       "      <td>3.0</td>\n",
       "      <td>3.0</td>\n",
       "      <td>Real Bed</td>\n",
       "      <td>300.0</td>\n",
       "      <td>0</td>\n",
       "      <td>NaN</td>\n",
       "      <td>1.0</td>\n",
       "      <td>30</td>\n",
       "      <td>7</td>\n",
       "      <td>3.0</td>\n",
       "    </tr>\n",
       "    <tr>\n",
       "      <th>5</th>\n",
       "      <td>5557381</td>\n",
       "      <td>28811542</td>\n",
       "      <td>10464</td>\n",
       "      <td>House</td>\n",
       "      <td>Private room</td>\n",
       "      <td>4</td>\n",
       "      <td>1.0</td>\n",
       "      <td>1.0</td>\n",
       "      <td>Real Bed</td>\n",
       "      <td>69.0</td>\n",
       "      <td>94</td>\n",
       "      <td>97.0</td>\n",
       "      <td>1.0</td>\n",
       "      <td>0</td>\n",
       "      <td>3</td>\n",
       "      <td>1.0</td>\n",
       "    </tr>\n",
       "    <tr>\n",
       "      <th>6</th>\n",
       "      <td>19609887</td>\n",
       "      <td>137892083</td>\n",
       "      <td>10464</td>\n",
       "      <td>Apartment</td>\n",
       "      <td>Entire home/apt</td>\n",
       "      <td>7</td>\n",
       "      <td>2.0</td>\n",
       "      <td>5.0</td>\n",
       "      <td>Real Bed</td>\n",
       "      <td>150.0</td>\n",
       "      <td>3</td>\n",
       "      <td>100.0</td>\n",
       "      <td>1.0</td>\n",
       "      <td>24</td>\n",
       "      <td>2</td>\n",
       "      <td>1.0</td>\n",
       "    </tr>\n",
       "  </tbody>\n",
       "</table>\n",
       "</div>"
      ],
      "text/plain": [
       "         id    host_id zipcode property_type        room_type  accommodates  \\\n",
       "2   6627449   13886510   10464     Apartment  Entire home/apt             3   \n",
       "3  19949243    1149260   10464          Boat  Entire home/apt             4   \n",
       "4   1886820    9815788   10464         House  Entire home/apt             4   \n",
       "5   5557381   28811542   10464         House     Private room             4   \n",
       "6  19609887  137892083   10464     Apartment  Entire home/apt             7   \n",
       "\n",
       "   bedrooms  beds  bed_type  price  number_of_reviews  review_scores_rating  \\\n",
       "2       1.0   1.0  Real Bed  125.0                 21                  95.0   \n",
       "3       1.0   3.0  Real Bed  100.0                  0                   NaN   \n",
       "4       3.0   3.0  Real Bed  300.0                  0                   NaN   \n",
       "5       1.0   1.0  Real Bed   69.0                 94                  97.0   \n",
       "6       2.0   5.0  Real Bed  150.0                  3                 100.0   \n",
       "\n",
       "   host_listings_count  availability_30  minimum_nights  bathrooms  \n",
       "2                  1.0               28               3        1.0  \n",
       "3                  1.0               30               3        1.0  \n",
       "4                  1.0               30               7        3.0  \n",
       "5                  1.0                0               3        1.0  \n",
       "6                  1.0               24               2        1.0  "
      ]
     },
     "execution_count": 9,
     "metadata": {},
     "output_type": "execute_result"
    }
   ],
   "source": [
    "# checking the data now, its clean now\n",
    "data.head()"
   ]
  },
  {
   "cell_type": "code",
   "execution_count": 10,
   "metadata": {},
   "outputs": [
    {
     "name": "stdout",
     "output_type": "stream",
     "text": [
      "Total review scores ratings with missing values: 8954\n"
     ]
    }
   ],
   "source": [
    "# calculate the total reviews with missing values\n",
    "print('Total review scores ratings with missing values:', len(data['review_scores_rating'][data['review_scores_rating'].isnull()]))"
   ]
  },
  {
   "cell_type": "code",
   "execution_count": 11,
   "metadata": {},
   "outputs": [
    {
     "name": "stdout",
     "output_type": "stream",
     "text": [
      "id                          0\n",
      "host_id                     0\n",
      "zipcode                 10428\n",
      "property_type               0\n",
      "room_type                   0\n",
      "accommodates                0\n",
      "bedrooms                    0\n",
      "beds                        0\n",
      "bed_type                    0\n",
      "price                       0\n",
      "number_of_reviews           0\n",
      "review_scores_rating     8954\n",
      "host_listings_count       209\n",
      "availability_30             0\n",
      "minimum_nights              0\n",
      "bathrooms                   0\n",
      "dtype: int64\n"
     ]
    }
   ],
   "source": [
    "print(data.isnull().sum())"
   ]
  },
  {
   "cell_type": "code",
   "execution_count": 12,
   "metadata": {},
   "outputs": [
    {
     "data": {
      "image/png": "[encoded data removed]",
      "text/plain": [
       "<matplotlib.figure.Figure at 0x1a1be6cc88>"
      ]
     },
     "metadata": {},
     "output_type": "display_data"
    }
   ],
   "source": [
    "# visualize classification of review scores ratings\n",
    "plt.hist(data['review_scores_rating'][~data['review_scores_rating'].isnull()])\n",
    "plt.title(\"Histogram of Review Scores Ratings\")\n",
    "plt.xlabel(\"Review Score\")\n",
    "plt.ylabel(\"Frequency\")\n",
    "plt.show()"
   ]
  },
  {
   "cell_type": "code",
   "execution_count": 13,
   "metadata": {},
   "outputs": [
    {
     "data": {
      "text/plain": [
       "id                        int64\n",
       "host_id                   int64\n",
       "zipcode                  object\n",
       "property_type            object\n",
       "room_type                object\n",
       "accommodates              int64\n",
       "bedrooms                float64\n",
       "beds                    float64\n",
       "bed_type                 object\n",
       "price                   float64\n",
       "number_of_reviews         int64\n",
       "review_scores_rating    float64\n",
       "host_listings_count     float64\n",
       "availability_30           int64\n",
       "minimum_nights            int64\n",
       "bathrooms               float64\n",
       "dtype: object"
      ]
     },
     "execution_count": 13,
     "metadata": {},
     "output_type": "execute_result"
    }
   ],
   "source": [
    "data.dtypes"
   ]
  },
  {
   "cell_type": "code",
   "execution_count": 14,
   "metadata": {
    "collapsed": true
   },
   "outputs": [],
   "source": [
    "data['zipcode']=data.zipcode.astype(str)"
   ]
  },
  {
   "cell_type": "code",
   "execution_count": 15,
   "metadata": {},
   "outputs": [
    {
     "data": {
      "text/plain": [
       "id                        int64\n",
       "host_id                   int64\n",
       "zipcode                  object\n",
       "property_type            object\n",
       "room_type                object\n",
       "accommodates              int64\n",
       "bedrooms                float64\n",
       "beds                    float64\n",
       "bed_type                 object\n",
       "price                   float64\n",
       "number_of_reviews         int64\n",
       "review_scores_rating    float64\n",
       "host_listings_count     float64\n",
       "availability_30           int64\n",
       "minimum_nights            int64\n",
       "bathrooms               float64\n",
       "dtype: object"
      ]
     },
     "execution_count": 15,
     "metadata": {},
     "output_type": "execute_result"
    }
   ],
   "source": [
    "data.dtypes"
   ]
  },
  {
   "cell_type": "code",
   "execution_count": 16,
   "metadata": {
    "collapsed": true
   },
   "outputs": [],
   "source": [
    "# turning NaN scores with 0 reviews into 'No Reviews'\n",
    "idx_vals = data['review_scores_rating'][data['number_of_reviews'] == 0].index.values.tolist()\n",
    "data.loc[idx_vals, ('review_scores_rating')] = data['review_scores_rating'][data['number_of_reviews'] == 0].replace('NaN', 'No Reviews')\n",
    "\n",
    "# removing inconsistent NaN values\n",
    "data = data[~data['review_scores_rating'].isnull()]\n",
    "\n",
    "# ensuring all zipcodes are of length 5\n",
    "data = data[data['zipcode'].map(len) == 5]"
   ]
  },
  {
   "cell_type": "code",
   "execution_count": 17,
   "metadata": {},
   "outputs": [
    {
     "name": "stdout",
     "output_type": "stream",
     "text": [
      "Total review scores ratings with missing values: 0\n"
     ]
    }
   ],
   "source": [
    "print('Total review scores ratings with missing values:', len(data['review_scores_rating'][data['review_scores_rating'].isnull()]))"
   ]
  },
  {
   "cell_type": "code",
   "execution_count": 18,
   "metadata": {},
   "outputs": [
    {
     "name": "stdout",
     "output_type": "stream",
     "text": [
      "Accomodation Numbers:  [ 1  2  3  4  5  6  7  8  9 10 11 12 13 14 15 16]\n",
      "Accommodations 1: 3086\n",
      "Accommodations 2: 10101\n",
      "Accommodations 3: 2443\n",
      "Accommodations 4: 3464\n",
      "Accommodations 5: 946\n",
      "Accommodations 6: 1238\n",
      "Accommodations 7: 277\n",
      "Accommodations 8: 393\n",
      "Accommodations 9: 65\n",
      "Accommodations 10: 147\n",
      "Accommodations 11: 20\n",
      "Accommodations 12: 52\n",
      "Accommodations 13: 9\n",
      "Accommodations 14: 21\n",
      "Accommodations 15: 8\n",
      "Accommodations 16: 43\n"
     ]
    }
   ],
   "source": [
    "# Accomodation classification\n",
    "print('Accomodation Numbers: ', np.unique(data['accommodates']))\n",
    "for i in range(1, 17):\n",
    "    print('Accommodations {}:'.format(i), len(data[data['accommodates'] == i]))"
   ]
  },
  {
   "cell_type": "code",
   "execution_count": 19,
   "metadata": {},
   "outputs": [
    {
     "data": {
      "image/png": "[encoded data removed]",
      "text/plain": [
       "<matplotlib.figure.Figure at 0x1a1a867518>"
      ]
     },
     "metadata": {},
     "output_type": "display_data"
    }
   ],
   "source": [
    "# visualual classification of price (target variable)\n",
    "plt.hist(data['accommodates'], bins=50)\n",
    "plt.title(\"Histogram of Accommodations\")\n",
    "plt.xlabel(\"Number of Accommodations\")\n",
    "plt.ylabel(\"Frequency\")\n",
    "plt.show()"
   ]
  },
  {
   "cell_type": "code",
   "execution_count": 20,
   "metadata": {},
   "outputs": [
    {
     "name": "stdout",
     "output_type": "stream",
     "text": [
      "Classification of number of Beds:  [  1.   2.   3.   4.   5.   6.   7.   8.   9.  10.  11.  12.  13.  14.  15.\n",
      "  16.  18.  40.]\n",
      "Beds 1: 14168\n",
      "Beds 2: 4894\n",
      "Beds 3: 1824\n",
      "Beds 4: 810\n",
      "Beds 5: 316\n",
      "Beds 6: 163\n",
      "Beds 7: 60\n",
      "Beds 8: 30\n",
      "Beds 9: 13\n",
      "Beds 10: 10\n",
      "Beds 11: 5\n",
      "Beds 12: 7\n",
      "Beds 13: 5\n",
      "Beds 14: 1\n",
      "Beds 15: 1\n",
      "Beds 16: 3\n"
     ]
    }
   ],
   "source": [
    "print('Classification of number of Beds: ', np.unique(data['beds']))\n",
    "for i in range(1, 17):\n",
    "    print('Beds {}:'.format(i), len(data[data['beds'] == i]))"
   ]
  },
  {
   "cell_type": "code",
   "execution_count": 21,
   "metadata": {},
   "outputs": [
    {
     "data": {
      "image/png": "[encoded data removed]",
      "text/plain": [
       "<matplotlib.figure.Figure at 0x1a1bc40f60>"
      ]
     },
     "metadata": {},
     "output_type": "display_data"
    }
   ],
   "source": [
    "# visualize classification of beds\n",
    "plt.hist(data['beds'], bins=50)\n",
    "plt.title(\"Histogram of Beds\")\n",
    "plt.xlabel(\"Bed Count\")\n",
    "plt.ylabel(\"Frequency\")\n",
    "plt.show()"
   ]
  },
  {
   "cell_type": "code",
   "execution_count": 22,
   "metadata": {},
   "outputs": [
    {
     "data": {
      "image/png": "[encoded data removed]",
      "text/plain": [
       "<matplotlib.figure.Figure at 0x1a1edcacf8>"
      ]
     },
     "metadata": {},
     "output_type": "display_data"
    }
   ],
   "source": [
    "# visualize classification of review scores ratings\n",
    "plt.hist(data['review_scores_rating'][~data['review_scores_rating'].isnull()])\n",
    "plt.title(\"Histogram of Review Scores Ratings\")\n",
    "plt.xlabel(\"Review Score\")\n",
    "plt.ylabel(\"Frequency\")\n",
    "plt.show()"
   ]
  },
  {
   "cell_type": "code",
   "execution_count": 23,
   "metadata": {},
   "outputs": [
    {
     "name": "stdout",
     "output_type": "stream",
     "text": [
      "Unique Values in the Column: ['20-29' '30-39' '40-49' '50-59' '60-69' '70-79' '80-84' '85-89' '90-94'\n",
      " '95-100']\n"
     ]
    }
   ],
   "source": [
    "# chnaging review_scores_rating into intervals\n",
    "def convert_scores_buckets(val):\n",
    "    if val == 'No Reviews':\n",
    "        return 'No Reviews'\n",
    "    elif val >= 95.0:\n",
    "        return '95-100'\n",
    "    elif val >= 90.0 and val < 95.0:\n",
    "        return '90-94'\n",
    "    elif val >= 85.0 and val < 90.0:\n",
    "        return '85-89'\n",
    "    elif val >= 80.0 and val < 85.0:\n",
    "        return '80-84'\n",
    "    elif val >= 70.0 and val < 80.0:\n",
    "        return '70-79'\n",
    "    elif val >= 60.0 and val < 70.0:\n",
    "        return '60-69'\n",
    "    elif val >= 50.0 and val < 60.0:\n",
    "        return '50-59'\n",
    "    elif val >= 40.0 and val < 50.0:\n",
    "        return '40-49'\n",
    "    elif val >= 30.0 and val < 40.0:\n",
    "        return '30-39'\n",
    "    elif val >= 20.0 and val < 30.0:\n",
    "        return '20-29'\n",
    "    elif val >= 10.0 and val < 20.0:\n",
    "        return '10-19'\n",
    "    elif val < 10.0:\n",
    "        return '0-9'\n",
    "    \n",
    "data['review_scores_rating'] = data['review_scores_rating'].apply(convert_scores_buckets)\n",
    "print('Unique Values in the Column:', np.unique(data['review_scores_rating']))"
   ]
  },
  {
   "cell_type": "code",
   "execution_count": 24,
   "metadata": {},
   "outputs": [
    {
     "name": "stdout",
     "output_type": "stream",
     "text": [
      "Number of remaining records: 22313\n"
     ]
    }
   ],
   "source": [
    "print('Number of remaining records:', len(data))"
   ]
  },
  {
   "cell_type": "code",
   "execution_count": 25,
   "metadata": {},
   "outputs": [
    {
     "name": "stdout",
     "output_type": "stream",
     "text": [
      "id                        0\n",
      "host_id                   0\n",
      "zipcode                   0\n",
      "property_type             0\n",
      "room_type                 0\n",
      "accommodates              0\n",
      "bedrooms                  0\n",
      "beds                      0\n",
      "bed_type                  0\n",
      "price                     0\n",
      "number_of_reviews         0\n",
      "review_scores_rating      0\n",
      "host_listings_count     118\n",
      "availability_30           0\n",
      "minimum_nights            0\n",
      "bathrooms                 0\n",
      "dtype: int64\n"
     ]
    }
   ],
   "source": [
    "print(data.isnull().sum())"
   ]
  },
  {
   "cell_type": "code",
   "execution_count": 26,
   "metadata": {},
   "outputs": [
    {
     "name": "stdout",
     "output_type": "stream",
     "text": [
      "Number of Columns: 235\n"
     ]
    }
   ],
   "source": [
    "# encode categorical variables\n",
    "zipcode_dummies = pd.get_dummies(data['zipcode'])\n",
    "property_dummies = pd.get_dummies(data['property_type'])\n",
    "room_dummies = pd.get_dummies(data['room_type'])\n",
    "bed_dummies = pd.get_dummies(data['bed_type'])\n",
    "ratings_scores_dummies = pd.get_dummies(data['review_scores_rating'])\n",
    "\n",
    "# replace the old columns with our new one-hot encoded ones\n",
    "df = pd.concat((data.drop(['zipcode', \\\n",
    "    'property_type', 'room_type', 'bed_type', 'review_scores_rating'], axis=1), \\\n",
    "    zipcode_dummies.astype(int), property_dummies.astype(int), \\\n",
    "    room_dummies.astype(int), bed_dummies.astype(int), ratings_scores_dummies.astype(int)), \\\n",
    "    axis=1)\n",
    "\n",
    "print('Number of Columns:', len(df.columns))"
   ]
  },
  {
   "cell_type": "code",
   "execution_count": 27,
   "metadata": {
    "collapsed": true
   },
   "outputs": [],
   "source": [
    "# move target predictor 'price' to the end of the dataframe\n",
    "cols = list(df.columns.values)\n",
    "idx = cols.index('price')\n",
    "rearrange_cols = cols[:idx] + cols[idx+1:] + [cols[idx]]\n",
    "df = df[rearrange_cols]"
   ]
  },
  {
   "cell_type": "code",
   "execution_count": 28,
   "metadata": {},
   "outputs": [
    {
     "data": {
      "text/html": [
       "<div>\n",
       "<style>\n",
       "    .dataframe thead tr:only-child th {\n",
       "        text-align: right;\n",
       "    }\n",
       "\n",
       "    .dataframe thead th {\n",
       "        text-align: left;\n",
       "    }\n",
       "\n",
       "    .dataframe tbody tr th {\n",
       "        vertical-align: top;\n",
       "    }\n",
       "</style>\n",
       "<table border=\"1\" class=\"dataframe\">\n",
       "  <thead>\n",
       "    <tr style=\"text-align: right;\">\n",
       "      <th></th>\n",
       "      <th>id</th>\n",
       "      <th>host_id</th>\n",
       "      <th>accommodates</th>\n",
       "      <th>bedrooms</th>\n",
       "      <th>beds</th>\n",
       "      <th>number_of_reviews</th>\n",
       "      <th>host_listings_count</th>\n",
       "      <th>availability_30</th>\n",
       "      <th>minimum_nights</th>\n",
       "      <th>bathrooms</th>\n",
       "      <th>...</th>\n",
       "      <th>30-39</th>\n",
       "      <th>40-49</th>\n",
       "      <th>50-59</th>\n",
       "      <th>60-69</th>\n",
       "      <th>70-79</th>\n",
       "      <th>80-84</th>\n",
       "      <th>85-89</th>\n",
       "      <th>90-94</th>\n",
       "      <th>95-100</th>\n",
       "      <th>price</th>\n",
       "    </tr>\n",
       "  </thead>\n",
       "  <tbody>\n",
       "    <tr>\n",
       "      <th>2</th>\n",
       "      <td>6627449</td>\n",
       "      <td>13886510</td>\n",
       "      <td>3</td>\n",
       "      <td>1.0</td>\n",
       "      <td>1.0</td>\n",
       "      <td>21</td>\n",
       "      <td>1.0</td>\n",
       "      <td>28</td>\n",
       "      <td>3</td>\n",
       "      <td>1.0</td>\n",
       "      <td>...</td>\n",
       "      <td>0</td>\n",
       "      <td>0</td>\n",
       "      <td>0</td>\n",
       "      <td>0</td>\n",
       "      <td>0</td>\n",
       "      <td>0</td>\n",
       "      <td>0</td>\n",
       "      <td>0</td>\n",
       "      <td>1</td>\n",
       "      <td>125.0</td>\n",
       "    </tr>\n",
       "    <tr>\n",
       "      <th>5</th>\n",
       "      <td>5557381</td>\n",
       "      <td>28811542</td>\n",
       "      <td>4</td>\n",
       "      <td>1.0</td>\n",
       "      <td>1.0</td>\n",
       "      <td>94</td>\n",
       "      <td>1.0</td>\n",
       "      <td>0</td>\n",
       "      <td>3</td>\n",
       "      <td>1.0</td>\n",
       "      <td>...</td>\n",
       "      <td>0</td>\n",
       "      <td>0</td>\n",
       "      <td>0</td>\n",
       "      <td>0</td>\n",
       "      <td>0</td>\n",
       "      <td>0</td>\n",
       "      <td>0</td>\n",
       "      <td>0</td>\n",
       "      <td>1</td>\n",
       "      <td>69.0</td>\n",
       "    </tr>\n",
       "    <tr>\n",
       "      <th>6</th>\n",
       "      <td>19609887</td>\n",
       "      <td>137892083</td>\n",
       "      <td>7</td>\n",
       "      <td>2.0</td>\n",
       "      <td>5.0</td>\n",
       "      <td>3</td>\n",
       "      <td>1.0</td>\n",
       "      <td>24</td>\n",
       "      <td>2</td>\n",
       "      <td>1.0</td>\n",
       "      <td>...</td>\n",
       "      <td>0</td>\n",
       "      <td>0</td>\n",
       "      <td>0</td>\n",
       "      <td>0</td>\n",
       "      <td>0</td>\n",
       "      <td>0</td>\n",
       "      <td>0</td>\n",
       "      <td>0</td>\n",
       "      <td>1</td>\n",
       "      <td>150.0</td>\n",
       "    </tr>\n",
       "    <tr>\n",
       "      <th>7</th>\n",
       "      <td>7949480</td>\n",
       "      <td>119445</td>\n",
       "      <td>2</td>\n",
       "      <td>1.0</td>\n",
       "      <td>1.0</td>\n",
       "      <td>31</td>\n",
       "      <td>1.0</td>\n",
       "      <td>29</td>\n",
       "      <td>1</td>\n",
       "      <td>1.0</td>\n",
       "      <td>...</td>\n",
       "      <td>0</td>\n",
       "      <td>0</td>\n",
       "      <td>0</td>\n",
       "      <td>0</td>\n",
       "      <td>0</td>\n",
       "      <td>0</td>\n",
       "      <td>0</td>\n",
       "      <td>0</td>\n",
       "      <td>1</td>\n",
       "      <td>101.0</td>\n",
       "    </tr>\n",
       "    <tr>\n",
       "      <th>11</th>\n",
       "      <td>1936633</td>\n",
       "      <td>10018391</td>\n",
       "      <td>2</td>\n",
       "      <td>1.0</td>\n",
       "      <td>2.0</td>\n",
       "      <td>49</td>\n",
       "      <td>1.0</td>\n",
       "      <td>0</td>\n",
       "      <td>3</td>\n",
       "      <td>1.0</td>\n",
       "      <td>...</td>\n",
       "      <td>0</td>\n",
       "      <td>0</td>\n",
       "      <td>0</td>\n",
       "      <td>0</td>\n",
       "      <td>0</td>\n",
       "      <td>0</td>\n",
       "      <td>0</td>\n",
       "      <td>0</td>\n",
       "      <td>1</td>\n",
       "      <td>115.0</td>\n",
       "    </tr>\n",
       "  </tbody>\n",
       "</table>\n",
       "<p>5 rows × 235 columns</p>\n",
       "</div>"
      ],
      "text/plain": [
       "          id    host_id  accommodates  bedrooms  beds  number_of_reviews  \\\n",
       "2    6627449   13886510             3       1.0   1.0                 21   \n",
       "5    5557381   28811542             4       1.0   1.0                 94   \n",
       "6   19609887  137892083             7       2.0   5.0                  3   \n",
       "7    7949480     119445             2       1.0   1.0                 31   \n",
       "11   1936633   10018391             2       1.0   2.0                 49   \n",
       "\n",
       "    host_listings_count  availability_30  minimum_nights  bathrooms  ...    \\\n",
       "2                   1.0               28               3        1.0  ...     \n",
       "5                   1.0                0               3        1.0  ...     \n",
       "6                   1.0               24               2        1.0  ...     \n",
       "7                   1.0               29               1        1.0  ...     \n",
       "11                  1.0                0               3        1.0  ...     \n",
       "\n",
       "    30-39  40-49  50-59  60-69  70-79  80-84  85-89  90-94  95-100  price  \n",
       "2       0      0      0      0      0      0      0      0       1  125.0  \n",
       "5       0      0      0      0      0      0      0      0       1   69.0  \n",
       "6       0      0      0      0      0      0      0      0       1  150.0  \n",
       "7       0      0      0      0      0      0      0      0       1  101.0  \n",
       "11      0      0      0      0      0      0      0      0       1  115.0  \n",
       "\n",
       "[5 rows x 235 columns]"
      ]
     },
     "execution_count": 28,
     "metadata": {},
     "output_type": "execute_result"
    }
   ],
   "source": [
    "df.head()"
   ]
  },
  {
   "cell_type": "code",
   "execution_count": 29,
   "metadata": {},
   "outputs": [],
   "source": [
    "# convert non-categorical variables to floats and standardize\n",
    "def standardize_col(col):\n",
    "    mean = np.mean(col)\n",
    "    std = np.std(col)\n",
    "    return col.apply(lambda x: (x - mean) / std)\n",
    "\n",
    "non_cat_vars = ['accommodates', 'bedrooms', 'beds', 'number_of_reviews', 'host_listings_count', 'availability_30', 'minimum_nights', 'bathrooms']\n",
    "for col in non_cat_vars:\n",
    "    df[col] = df[col].astype(float)\n",
    "    df[col] = standardize_col(df[col])\n",
    "    \n"
   ]
  },
  {
   "cell_type": "code",
   "execution_count": 30,
   "metadata": {},
   "outputs": [
    {
     "data": {
      "text/html": [
       "<div>\n",
       "<style>\n",
       "    .dataframe thead tr:only-child th {\n",
       "        text-align: right;\n",
       "    }\n",
       "\n",
       "    .dataframe thead th {\n",
       "        text-align: left;\n",
       "    }\n",
       "\n",
       "    .dataframe tbody tr th {\n",
       "        vertical-align: top;\n",
       "    }\n",
       "</style>\n",
       "<table border=\"1\" class=\"dataframe\">\n",
       "  <thead>\n",
       "    <tr style=\"text-align: right;\">\n",
       "      <th></th>\n",
       "      <th>id</th>\n",
       "      <th>host_id</th>\n",
       "      <th>accommodates</th>\n",
       "      <th>bedrooms</th>\n",
       "      <th>beds</th>\n",
       "      <th>number_of_reviews</th>\n",
       "      <th>host_listings_count</th>\n",
       "      <th>availability_30</th>\n",
       "      <th>minimum_nights</th>\n",
       "      <th>bathrooms</th>\n",
       "      <th>...</th>\n",
       "      <th>30-39</th>\n",
       "      <th>40-49</th>\n",
       "      <th>50-59</th>\n",
       "      <th>60-69</th>\n",
       "      <th>70-79</th>\n",
       "      <th>80-84</th>\n",
       "      <th>85-89</th>\n",
       "      <th>90-94</th>\n",
       "      <th>95-100</th>\n",
       "      <th>price</th>\n",
       "    </tr>\n",
       "  </thead>\n",
       "  <tbody>\n",
       "    <tr>\n",
       "      <th>2</th>\n",
       "      <td>6627449</td>\n",
       "      <td>13886510</td>\n",
       "      <td>0.025891</td>\n",
       "      <td>-0.427395</td>\n",
       "      <td>-0.545710</td>\n",
       "      <td>-0.072227</td>\n",
       "      <td>-0.094294</td>\n",
       "      <td>2.487829</td>\n",
       "      <td>-0.067513</td>\n",
       "      <td>-0.331292</td>\n",
       "      <td>...</td>\n",
       "      <td>0</td>\n",
       "      <td>0</td>\n",
       "      <td>0</td>\n",
       "      <td>0</td>\n",
       "      <td>0</td>\n",
       "      <td>0</td>\n",
       "      <td>0</td>\n",
       "      <td>0</td>\n",
       "      <td>1</td>\n",
       "      <td>125.0</td>\n",
       "    </tr>\n",
       "    <tr>\n",
       "      <th>5</th>\n",
       "      <td>5557381</td>\n",
       "      <td>28811542</td>\n",
       "      <td>0.547748</td>\n",
       "      <td>-0.427395</td>\n",
       "      <td>-0.545710</td>\n",
       "      <td>1.977504</td>\n",
       "      <td>-0.094294</td>\n",
       "      <td>-0.702867</td>\n",
       "      <td>-0.067513</td>\n",
       "      <td>-0.331292</td>\n",
       "      <td>...</td>\n",
       "      <td>0</td>\n",
       "      <td>0</td>\n",
       "      <td>0</td>\n",
       "      <td>0</td>\n",
       "      <td>0</td>\n",
       "      <td>0</td>\n",
       "      <td>0</td>\n",
       "      <td>0</td>\n",
       "      <td>1</td>\n",
       "      <td>69.0</td>\n",
       "    </tr>\n",
       "    <tr>\n",
       "      <th>6</th>\n",
       "      <td>19609887</td>\n",
       "      <td>137892083</td>\n",
       "      <td>2.113321</td>\n",
       "      <td>1.102601</td>\n",
       "      <td>2.897119</td>\n",
       "      <td>-0.577640</td>\n",
       "      <td>-0.094294</td>\n",
       "      <td>2.032015</td>\n",
       "      <td>-0.148238</td>\n",
       "      <td>-0.331292</td>\n",
       "      <td>...</td>\n",
       "      <td>0</td>\n",
       "      <td>0</td>\n",
       "      <td>0</td>\n",
       "      <td>0</td>\n",
       "      <td>0</td>\n",
       "      <td>0</td>\n",
       "      <td>0</td>\n",
       "      <td>0</td>\n",
       "      <td>1</td>\n",
       "      <td>150.0</td>\n",
       "    </tr>\n",
       "    <tr>\n",
       "      <th>7</th>\n",
       "      <td>7949480</td>\n",
       "      <td>119445</td>\n",
       "      <td>-0.495967</td>\n",
       "      <td>-0.427395</td>\n",
       "      <td>-0.545710</td>\n",
       "      <td>0.208558</td>\n",
       "      <td>-0.094294</td>\n",
       "      <td>2.601782</td>\n",
       "      <td>-0.228964</td>\n",
       "      <td>-0.331292</td>\n",
       "      <td>...</td>\n",
       "      <td>0</td>\n",
       "      <td>0</td>\n",
       "      <td>0</td>\n",
       "      <td>0</td>\n",
       "      <td>0</td>\n",
       "      <td>0</td>\n",
       "      <td>0</td>\n",
       "      <td>0</td>\n",
       "      <td>1</td>\n",
       "      <td>101.0</td>\n",
       "    </tr>\n",
       "    <tr>\n",
       "      <th>11</th>\n",
       "      <td>1936633</td>\n",
       "      <td>10018391</td>\n",
       "      <td>-0.495967</td>\n",
       "      <td>-0.427395</td>\n",
       "      <td>0.314997</td>\n",
       "      <td>0.713971</td>\n",
       "      <td>-0.094294</td>\n",
       "      <td>-0.702867</td>\n",
       "      <td>-0.067513</td>\n",
       "      <td>-0.331292</td>\n",
       "      <td>...</td>\n",
       "      <td>0</td>\n",
       "      <td>0</td>\n",
       "      <td>0</td>\n",
       "      <td>0</td>\n",
       "      <td>0</td>\n",
       "      <td>0</td>\n",
       "      <td>0</td>\n",
       "      <td>0</td>\n",
       "      <td>1</td>\n",
       "      <td>115.0</td>\n",
       "    </tr>\n",
       "  </tbody>\n",
       "</table>\n",
       "<p>5 rows × 235 columns</p>\n",
       "</div>"
      ],
      "text/plain": [
       "          id    host_id  accommodates  bedrooms      beds  number_of_reviews  \\\n",
       "2    6627449   13886510      0.025891 -0.427395 -0.545710          -0.072227   \n",
       "5    5557381   28811542      0.547748 -0.427395 -0.545710           1.977504   \n",
       "6   19609887  137892083      2.113321  1.102601  2.897119          -0.577640   \n",
       "7    7949480     119445     -0.495967 -0.427395 -0.545710           0.208558   \n",
       "11   1936633   10018391     -0.495967 -0.427395  0.314997           0.713971   \n",
       "\n",
       "    host_listings_count  availability_30  minimum_nights  bathrooms  ...    \\\n",
       "2             -0.094294         2.487829       -0.067513  -0.331292  ...     \n",
       "5             -0.094294        -0.702867       -0.067513  -0.331292  ...     \n",
       "6             -0.094294         2.032015       -0.148238  -0.331292  ...     \n",
       "7             -0.094294         2.601782       -0.228964  -0.331292  ...     \n",
       "11            -0.094294        -0.702867       -0.067513  -0.331292  ...     \n",
       "\n",
       "    30-39  40-49  50-59  60-69  70-79  80-84  85-89  90-94  95-100  price  \n",
       "2       0      0      0      0      0      0      0      0       1  125.0  \n",
       "5       0      0      0      0      0      0      0      0       1   69.0  \n",
       "6       0      0      0      0      0      0      0      0       1  150.0  \n",
       "7       0      0      0      0      0      0      0      0       1  101.0  \n",
       "11      0      0      0      0      0      0      0      0       1  115.0  \n",
       "\n",
       "[5 rows x 235 columns]"
      ]
     },
     "execution_count": 30,
     "metadata": {},
     "output_type": "execute_result"
    }
   ],
   "source": [
    "df.head()"
   ]
  },
  {
   "cell_type": "code",
   "execution_count": 31,
   "metadata": {},
   "outputs": [
    {
     "data": {
      "image/png": "[encoded data removed]",
      "text/plain": [
       "<matplotlib.figure.Figure at 0x1a1a839e48>"
      ]
     },
     "metadata": {},
     "output_type": "display_data"
    }
   ],
   "source": [
    "# visualize classification of price (target variable)\n",
    "plt.hist(df['price'], bins=50)\n",
    "plt.title(\"Histogram of Pricing\")\n",
    "plt.xlabel(\"Pricing (USD) Per Day\")\n",
    "plt.ylabel(\"Frequency\")\n",
    "plt.show()"
   ]
  },
  {
   "cell_type": "code",
   "execution_count": 32,
   "metadata": {
    "collapsed": true
   },
   "outputs": [],
   "source": [
    "# log transform the response 'price'\n",
    "df['price_log'] = df['price'].apply(lambda x: math.log(x))"
   ]
  },
  {
   "cell_type": "code",
   "execution_count": 33,
   "metadata": {},
   "outputs": [
    {
     "data": {
      "image/png": "[encoded data removed]",
      "text/plain": [
       "<matplotlib.figure.Figure at 0x1a1d21e828>"
      ]
     },
     "metadata": {},
     "output_type": "display_data"
    }
   ],
   "source": [
    "# visualize distribution of price (target variable)\n",
    "plt.hist(df['price_log'], bins=30)\n",
    "plt.title(\"Histogram of Pricing Log-Transformed\")\n",
    "plt.xlabel(\"Pricing (USD) Per Day\")\n",
    "plt.ylabel(\"Frequency\")\n",
    "plt.show()"
   ]
  },
  {
   "cell_type": "code",
   "execution_count": 61,
   "metadata": {
    "collapsed": true
   },
   "outputs": [],
   "source": [
    "# put the data into new csv\n",
    "df.to_csv('listings_detail_clean.csv', index=False)"
   ]
  }
 ],
 "metadata": {
  "kernelspec": {
   "display_name": "Python 3",
   "language": "python",
   "name": "python3"
  },
  "language_info": {
   "codemirror_mode": {
    "name": "ipython",
    "version": 3
   },
   "file_extension": ".py",
   "mimetype": "text/x-python",
   "name": "python",
   "nbconvert_exporter": "python",
   "pygments_lexer": "ipython3",
   "version": "3.6.3"
  }
 },
 "nbformat": 4,
 "nbformat_minor": 2
}
